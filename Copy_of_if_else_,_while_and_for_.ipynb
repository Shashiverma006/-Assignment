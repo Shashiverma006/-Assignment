{
  "cells": [
    {
      "cell_type": "markdown",
      "metadata": {
        "id": "view-in-github",
        "colab_type": "text"
      },
      "source": [
        "<a href=\"https://colab.research.google.com/github/Shashiverma006/-Assignment/blob/main/Copy_of_if_else_%2C_while_and_for_.ipynb\" target=\"_parent\"><img src=\"https://colab.research.google.com/assets/colab-badge.svg\" alt=\"Open In Colab\"/></a>"
      ]
    },
    {
      "cell_type": "code",
      "execution_count": null,
      "id": "1586b442-65fb-4e72-bd05-224e17a5c0d9",
      "metadata": {
        "id": "1586b442-65fb-4e72-bd05-224e17a5c0d9"
      },
      "outputs": [],
      "source": [
        "a = 10\n",
        "if a > 10 :\n",
        "    print(\"yes a is greater than 10 \")"
      ]
    },
    {
      "cell_type": "code",
      "execution_count": null,
      "id": "87617a92-0f49-4b09-a69d-5bbd72b2316e",
      "metadata": {
        "id": "87617a92-0f49-4b09-a69d-5bbd72b2316e",
        "outputId": "56405767-bef1-47cc-c262-2c53f7e69622"
      },
      "outputs": [
        {
          "data": {
            "text/plain": [
              "False"
            ]
          },
          "execution_count": 4,
          "metadata": {},
          "output_type": "execute_result"
        }
      ],
      "source": [
        "a > 10"
      ]
    },
    {
      "cell_type": "code",
      "execution_count": null,
      "id": "48733b1b-4334-42ab-b76f-18ea21e54f04",
      "metadata": {
        "id": "48733b1b-4334-42ab-b76f-18ea21e54f04",
        "outputId": "723f7d22-91ba-4f9c-ecb5-5ce59c4b02f8"
      },
      "outputs": [
        {
          "name": "stdout",
          "output_type": "stream",
          "text": [
            "yes a is greater than 10 \n"
          ]
        }
      ],
      "source": [
        "a = 10\n",
        "if a >= 10 :\n",
        "    print(\"yes a is greater than 10 \")"
      ]
    },
    {
      "cell_type": "code",
      "execution_count": null,
      "id": "2f658b81-f7d3-48f0-a6d7-d294663f0588",
      "metadata": {
        "id": "2f658b81-f7d3-48f0-a6d7-d294663f0588",
        "outputId": "5712228d-1d91-44bb-c9d4-84399d0c2751"
      },
      "outputs": [
        {
          "data": {
            "text/plain": [
              "True"
            ]
          },
          "execution_count": 6,
          "metadata": {},
          "output_type": "execute_result"
        }
      ],
      "source": [
        "a >= 10"
      ]
    },
    {
      "cell_type": "code",
      "execution_count": null,
      "id": "8bfb56a4-b32a-43c3-852b-27a32363f4b1",
      "metadata": {
        "id": "8bfb56a4-b32a-43c3-852b-27a32363f4b1",
        "outputId": "8c3f5b44-080b-4af6-93f2-b375ab94d1b3"
      },
      "outputs": [
        {
          "name": "stdout",
          "output_type": "stream",
          "text": [
            "this is my defalut\n"
          ]
        }
      ],
      "source": [
        "b = 20\n",
        "if b > 30 :\n",
        "    print(\"yes b is greater than 30\")\n",
        "elif b  > 40 :\n",
        "    print(\"yes b is leser than 40 \")\n",
        "elif b > 100 :\n",
        "    print(\"yes b is greater than 100\")\n",
        "else :\n",
        "    print(\"this is my defalut\")\n"
      ]
    },
    {
      "cell_type": "code",
      "execution_count": null,
      "id": "32a8bc08-5de5-4514-a36a-2d2dac052c47",
      "metadata": {
        "id": "32a8bc08-5de5-4514-a36a-2d2dac052c47",
        "outputId": "b6c03f4e-aeac-413d-a8bf-f5efdcbaa753"
      },
      "outputs": [
        {
          "data": {
            "text/plain": [
              "False"
            ]
          },
          "execution_count": 8,
          "metadata": {},
          "output_type": "execute_result"
        }
      ],
      "source": [
        "b > 30"
      ]
    },
    {
      "cell_type": "code",
      "execution_count": null,
      "id": "e9b9a72c-b9e1-4fd1-ae43-0f98921d9e47",
      "metadata": {
        "id": "e9b9a72c-b9e1-4fd1-ae43-0f98921d9e47",
        "outputId": "4903a6ae-9e62-4ede-ca42-d1a9a9e5b1ef"
      },
      "outputs": [
        {
          "data": {
            "text/plain": [
              "True"
            ]
          },
          "execution_count": 10,
          "metadata": {},
          "output_type": "execute_result"
        }
      ],
      "source": [
        "b < 40"
      ]
    },
    {
      "cell_type": "code",
      "execution_count": null,
      "id": "73891866-615d-440f-92a1-db121e3c3eee",
      "metadata": {
        "id": "73891866-615d-440f-92a1-db121e3c3eee",
        "outputId": "ad58a08f-3252-4b02-f80e-f7f2c460c54e"
      },
      "outputs": [
        {
          "data": {
            "text/plain": [
              "False"
            ]
          },
          "execution_count": 12,
          "metadata": {},
          "output_type": "execute_result"
        }
      ],
      "source": [
        "b  > 40"
      ]
    },
    {
      "cell_type": "code",
      "execution_count": null,
      "id": "d7b7dda1-031b-49a9-8d1f-bd949efc935b",
      "metadata": {
        "id": "d7b7dda1-031b-49a9-8d1f-bd949efc935b",
        "outputId": "4e84e4f5-44b2-43a0-c31d-9e4469f4adab"
      },
      "outputs": [
        {
          "name": "stdin",
          "output_type": "stream",
          "text": [
            " 2\n"
          ]
        },
        {
          "name": "stdout",
          "output_type": "stream",
          "text": [
            "this is my defalut\n"
          ]
        }
      ],
      "source": [
        "b = int(input())\n",
        "if b > 30 :\n",
        "    print(\"yes b is greater than 30\")\n",
        "elif b  > 40 :\n",
        "    print(\"yes b is leser than 40 \")\n",
        "elif b > 100 :\n",
        "    print(\"yes b is greater than 100\")\n",
        "else :\n",
        "    print(\"this is my defalut\")"
      ]
    },
    {
      "cell_type": "code",
      "execution_count": null,
      "id": "250f88d7-d21a-4539-9834-4ab80a565e86",
      "metadata": {
        "id": "250f88d7-d21a-4539-9834-4ab80a565e86",
        "outputId": "827d6a16-9559-4181-848f-74f8512f0006"
      },
      "outputs": [
        {
          "data": {
            "text/plain": [
              "34"
            ]
          },
          "execution_count": 16,
          "metadata": {},
          "output_type": "execute_result"
        }
      ],
      "source": [
        "int('34')"
      ]
    },
    {
      "cell_type": "code",
      "execution_count": null,
      "id": "b6d0f839-e7dd-492b-96a7-4dd3b80adb2d",
      "metadata": {
        "id": "b6d0f839-e7dd-492b-96a7-4dd3b80adb2d",
        "outputId": "268f8b66-c34f-4f9c-a7f4-2c6d387a7a57"
      },
      "outputs": [
        {
          "data": {
            "text/plain": [
              "45"
            ]
          },
          "execution_count": 18,
          "metadata": {},
          "output_type": "execute_result"
        }
      ],
      "source": [
        "b"
      ]
    },
    {
      "cell_type": "code",
      "execution_count": null,
      "id": "f230af02-0d85-4f6c-b3bc-76a7295b8415",
      "metadata": {
        "id": "f230af02-0d85-4f6c-b3bc-76a7295b8415",
        "outputId": "9dc3b390-54d3-4ae4-847a-8253e49357df"
      },
      "outputs": [
        {
          "data": {
            "text/plain": [
              "int"
            ]
          },
          "execution_count": 19,
          "metadata": {},
          "output_type": "execute_result"
        }
      ],
      "source": [
        "type(b)"
      ]
    },
    {
      "cell_type": "code",
      "execution_count": null,
      "id": "b9f4a504-7e57-4a54-a39e-4aeed4631dd1",
      "metadata": {
        "id": "b9f4a504-7e57-4a54-a39e-4aeed4631dd1",
        "outputId": "25fbe7b4-f882-47fe-c859-1d2d30e16a08"
      },
      "outputs": [
        {
          "name": "stdout",
          "output_type": "stream",
          "text": [
            "1\n",
            "2\n",
            "3\n"
          ]
        }
      ],
      "source": [
        "n = 4\n",
        "i = 1\n",
        "while i < n :\n",
        "    print(i)\n",
        "    i = i+1\n"
      ]
    },
    {
      "cell_type": "code",
      "execution_count": null,
      "id": "c5497c60-bea3-4924-8fdf-720c90014da6",
      "metadata": {
        "id": "c5497c60-bea3-4924-8fdf-720c90014da6",
        "outputId": "8415e83c-7e13-4b69-b79d-41dcf5ac4b69"
      },
      "outputs": [
        {
          "name": "stdout",
          "output_type": "stream",
          "text": [
            "1\n",
            "2\n",
            "3\n",
            "this is my else\n"
          ]
        }
      ],
      "source": [
        "n = 4\n",
        "i = 1\n",
        "while i < n :\n",
        "    print(i)\n",
        "    i = i+1\n",
        "else :\n",
        "    print(\"this is my else\")"
      ]
    },
    {
      "cell_type": "code",
      "execution_count": null,
      "id": "5fbdb774-9ac0-4906-a404-2a1672fe76cc",
      "metadata": {
        "id": "5fbdb774-9ac0-4906-a404-2a1672fe76cc",
        "outputId": "53245529-846f-4d33-ace8-f104db35f54f"
      },
      "outputs": [
        {
          "name": "stdout",
          "output_type": "stream",
          "text": [
            "1\n",
            "2\n"
          ]
        }
      ],
      "source": [
        "n = 4\n",
        "i = 1\n",
        "while i < n :\n",
        "    print(i)\n",
        "    i = i+1\n",
        "    if i == 3 :\n",
        "        break\n",
        "else :\n",
        "    print(\"this is my else\")"
      ]
    },
    {
      "cell_type": "code",
      "execution_count": null,
      "id": "6f613a37-6b0e-44e0-8e57-34fd7ac901e8",
      "metadata": {
        "id": "6f613a37-6b0e-44e0-8e57-34fd7ac901e8",
        "outputId": "8589eb2b-bf72-4c41-f3ab-d4c535316d39"
      },
      "outputs": [
        {
          "name": "stdout",
          "output_type": "stream",
          "text": [
            "s\n",
            "u\n",
            "d\n",
            "h\n"
          ]
        }
      ],
      "source": [
        "s = \"sudh\"\n",
        "for i in s :\n",
        "    print(i)\n"
      ]
    },
    {
      "cell_type": "code",
      "execution_count": null,
      "id": "2f5ea9bc-0a79-4b44-b152-bf8e5c3b7e40",
      "metadata": {
        "id": "2f5ea9bc-0a79-4b44-b152-bf8e5c3b7e40"
      },
      "outputs": [],
      "source": [
        "l = [2,3,4,5,6,\"sudh\" , \"pwskills\" , 23.45, True]"
      ]
    },
    {
      "cell_type": "code",
      "execution_count": null,
      "id": "d6f60f2e-7e35-47f6-bf70-658a86d0f86e",
      "metadata": {
        "id": "d6f60f2e-7e35-47f6-bf70-658a86d0f86e",
        "outputId": "9fd018ba-83c2-4e91-e3c0-e5681a27d592"
      },
      "outputs": [
        {
          "name": "stdout",
          "output_type": "stream",
          "text": [
            "<class 'int'>\n",
            "<class 'int'>\n",
            "<class 'int'>\n",
            "<class 'int'>\n",
            "<class 'int'>\n",
            "<class 'str'>\n",
            "<class 'str'>\n",
            "<class 'float'>\n",
            "<class 'bool'>\n"
          ]
        }
      ],
      "source": [
        "for i in l :\n",
        "    print(type(i))"
      ]
    },
    {
      "cell_type": "code",
      "execution_count": null,
      "id": "7acdc0eb-5068-4019-a03b-f4afd50b2e00",
      "metadata": {
        "id": "7acdc0eb-5068-4019-a03b-f4afd50b2e00",
        "outputId": "77a11aba-a2bf-473b-a572-642b41682867"
      },
      "outputs": [
        {
          "name": "stdout",
          "output_type": "stream",
          "text": [
            "<class 'int'>\n",
            "<class 'int'>\n",
            "<class 'int'>\n",
            "<class 'int'>\n",
            "<class 'int'>\n",
            "<class 'str'>\n",
            "<class 'str'>\n",
            "<class 'float'>\n",
            "<class 'bool'>\n",
            "this will be executed once for loop will comoplete itself succefully\n"
          ]
        }
      ],
      "source": [
        "for i in l :\n",
        "    print(type(i))\n",
        "    if i == 6 :\n",
        "        continue\n",
        "else :\n",
        "    print(\"this will be executed once for loop will comoplete itself succefully\")"
      ]
    },
    {
      "cell_type": "code",
      "execution_count": null,
      "id": "4fbd6272-a4e8-48b9-87a6-864883d8e86d",
      "metadata": {
        "id": "4fbd6272-a4e8-48b9-87a6-864883d8e86d",
        "outputId": "1f5e2e40-4ba2-4308-dc6e-f6d60dd2d096"
      },
      "outputs": [
        {
          "data": {
            "text/plain": [
              "[2, 3, 4, 5, 6, 'sudh', 'pwskills', 23.45, True]"
            ]
          },
          "execution_count": 31,
          "metadata": {},
          "output_type": "execute_result"
        }
      ],
      "source": [
        "l"
      ]
    },
    {
      "cell_type": "code",
      "execution_count": null,
      "id": "268ba902-703d-428c-b93e-0ec424080fdd",
      "metadata": {
        "id": "268ba902-703d-428c-b93e-0ec424080fdd",
        "outputId": "c41d5abb-ca30-42bb-8bb9-308393ee08b9"
      },
      "outputs": [
        {
          "name": "stdout",
          "output_type": "stream",
          "text": [
            "<class 'int'>\n",
            "2\n",
            "<class 'int'>\n",
            "3\n",
            "<class 'int'>\n",
            "4\n",
            "<class 'int'>\n",
            "5\n",
            "<class 'int'>\n",
            "<class 'str'>\n",
            "sudh\n",
            "<class 'str'>\n",
            "pwskills\n",
            "<class 'float'>\n",
            "23.45\n",
            "<class 'bool'>\n",
            "True\n",
            "this will be executed once for loop will comoplete itself succefully\n"
          ]
        }
      ],
      "source": [
        "for i in l :\n",
        "    print(type(i))\n",
        "    if i == 6 :\n",
        "        continue\n",
        "    print(i)\n",
        "else :\n",
        "    print(\"this will be executed once for loop will comoplete itself succefully\")"
      ]
    },
    {
      "cell_type": "code",
      "execution_count": null,
      "id": "1f3bf566-b071-4177-874b-c64e166d5fc7",
      "metadata": {
        "id": "1f3bf566-b071-4177-874b-c64e166d5fc7",
        "outputId": "d5afc090-9e63-465f-fdd7-215133b21128"
      },
      "outputs": [
        {
          "data": {
            "text/plain": [
              "range(0, 10)"
            ]
          },
          "execution_count": 34,
          "metadata": {},
          "output_type": "execute_result"
        }
      ],
      "source": [
        "range(10)"
      ]
    },
    {
      "cell_type": "code",
      "execution_count": null,
      "id": "7ba20398-6bfd-43b1-ac9b-b9bde66cf13f",
      "metadata": {
        "id": "7ba20398-6bfd-43b1-ac9b-b9bde66cf13f",
        "outputId": "836a3b06-a4f9-4781-f1c3-457b4089140a"
      },
      "outputs": [
        {
          "data": {
            "text/plain": [
              "[0, 1, 2, 3, 4, 5, 6, 7, 8, 9]"
            ]
          },
          "execution_count": 35,
          "metadata": {},
          "output_type": "execute_result"
        }
      ],
      "source": [
        "list(range(10))"
      ]
    },
    {
      "cell_type": "code",
      "execution_count": null,
      "id": "8abca3b2-17a1-4fd5-a30e-beab45037924",
      "metadata": {
        "id": "8abca3b2-17a1-4fd5-a30e-beab45037924"
      },
      "outputs": [],
      "source": []
    }
  ],
  "metadata": {
    "kernelspec": {
      "display_name": "Python 3 (ipykernel)",
      "language": "python",
      "name": "python3"
    },
    "language_info": {
      "codemirror_mode": {
        "name": "ipython",
        "version": 3
      },
      "file_extension": ".py",
      "mimetype": "text/x-python",
      "name": "python",
      "nbconvert_exporter": "python",
      "pygments_lexer": "ipython3",
      "version": "3.10.8"
    },
    "colab": {
      "provenance": [],
      "include_colab_link": true
    }
  },
  "nbformat": 4,
  "nbformat_minor": 5
}